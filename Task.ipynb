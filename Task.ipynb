{
 "cells": [
  {
   "cell_type": "code",
   "execution_count": 109,
   "id": "cd4cef29",
   "metadata": {},
   "outputs": [],
   "source": [
    "class sc: #Senior citizen class\n",
    "    def __init__(self,name,payments):\n",
    "        self.name = name\n",
    "        self.payments = payments"
   ]
  },
  {
   "cell_type": "code",
   "execution_count": 110,
   "id": "9bdf8b3b",
   "metadata": {},
   "outputs": [],
   "source": [
    "class carer: #Carer class\n",
    "    def __init__(self,name):\n",
    "        self.name = name"
   ]
  },
  {
   "cell_type": "code",
   "execution_count": 111,
   "id": "f4c1b4c4",
   "metadata": {},
   "outputs": [],
   "source": [
    "class Outing:  # Outing class\n",
    "    def __init__(self, no_of_sc):\n",
    "        if no_of_sc < 10 or no_of_sc > 36: # Check if object has required number of senior citizens\n",
    "            raise ValueError(\"The number of senior citizens must be between 10 and 36, inclusive.\")\n",
    "            return\n",
    "        self.no_of_sc = no_of_sc\n",
    "        self.sc_list = []\n",
    "        self.coach_cost = 0\n",
    "        self.meal_cost = 0\n",
    "        self.ticket_cost = 0\n",
    "        self.total_costs = 0\n",
    "        self.cost_per_person = 0\n",
    "        \n",
    "        # Recording number of seats\n",
    "        if self.no_of_sc < 17:\n",
    "            self.seats = 16\n",
    "        elif self.no_of_sc < 27:\n",
    "            self.seats = 26\n",
    "        else:\n",
    "            self.seats = 39\n",
    "        # Recording number of carers\n",
    "        if self.no_of_sc > 24:\n",
    "            self.carers = 3\n",
    "        else:\n",
    "            self.carers = 2\n",
    "            \n",
    "        # Calculating costs and costs per person\n",
    "        self.cal_cost()\n",
    "        self.cost_perperson()\n",
    "    \n",
    "    #Enter sc object\n",
    "    def enter_sc(self, Sc):\n",
    "        # Checking if seats are available:\n",
    "        if self.seats < (len(self.sc_list)+self.carers+1):\n",
    "            print(\"More seats are not available.\")\n",
    "            return\n",
    "        \n",
    "        if isinstance(Sc, sc):  # Check if 'sc' is an instance of its own class\n",
    "            if Sc.payments < self.cost_per_person: # Check if senior citizen is paying minimum amount\n",
    "                print(\"The minimum payment requirements is \"+str(self.cost_per_person)+\".\")\n",
    "                return\n",
    "            self.sc_list.append(Sc)\n",
    "        else:\n",
    "            print(\"The entered input is not an instance of the sc(senior citizen) class. Please enter a valid input.\")\n",
    "    \n",
    "    #Calculate total costs\n",
    "    def cal_cost(self):\n",
    "        # Calculating costs\n",
    "        if self.no_of_sc+self.carers < 17:\n",
    "            self.coach_cost = 150\n",
    "            self.meal_cost = (self.no_of_sc+self.carers) * 14\n",
    "            self.ticket_cost = (self.no_of_sc+self.carers) * 21\n",
    "        elif self.no_of_sc+self.carers < 27:\n",
    "            self.coach_cost = 190\n",
    "            self.meal_cost = (self.no_of_sc+self.carers) * 13.5\n",
    "            self.ticket_cost = (self.no_of_sc+self.carers) * 20\n",
    "        else:\n",
    "            self.coach_cost = 225\n",
    "            self.meal_cost = (self.no_of_sc+self.carers) * 13\n",
    "            self.ticket_cost = (self.no_of_sc+self.carers) * 19\n",
    "        self.total_costs = self.coach_cost + self.meal_cost + self.ticket_cost\n",
    "\n",
    "    \n",
    "    # Print names of senior citizens\n",
    "    def sc_names(self):\n",
    "        for sc_instance in self.sc_list:\n",
    "            print(sc_instance.name)\n",
    "     \n",
    "    # Calculate breakpoint\n",
    "    def breakpoint(self):\n",
    "        payments = 0\n",
    "        for i in self.sc_list:\n",
    "            payments = payments + i.payments\n",
    "            \n",
    "        if self.total_costs <= payments:\n",
    "            print(\"Total profit is \"+str(payments - self.total_costs)+\".\")\n",
    "            return payments - self.total_costs\n",
    "        else:\n",
    "            print(\"Total loss is \"+str(self.total_costs - payments)+\".\")\n",
    "            return self.total_costs - payments\n",
    "    \n",
    "    # Calculate cost per person\n",
    "    def cost_perperson(self):\n",
    "        self.cost_per_person = self.total_costs/(self.no_of_sc + self.carers)\n",
    "        return self.cost_per_person"
   ]
  },
  {
   "cell_type": "code",
   "execution_count": 112,
   "id": "2a6305f9",
   "metadata": {},
   "outputs": [],
   "source": [
    "out = Outing(10)"
   ]
  },
  {
   "cell_type": "code",
   "execution_count": 113,
   "id": "bdf4801a",
   "metadata": {},
   "outputs": [
    {
     "data": {
      "text/plain": [
       "570"
      ]
     },
     "execution_count": 113,
     "metadata": {},
     "output_type": "execute_result"
    }
   ],
   "source": [
    "out.total_costs"
   ]
  },
  {
   "cell_type": "code",
   "execution_count": 114,
   "id": "e5aac8cd",
   "metadata": {},
   "outputs": [
    {
     "data": {
      "text/plain": [
       "47.5"
      ]
     },
     "execution_count": 114,
     "metadata": {},
     "output_type": "execute_result"
    }
   ],
   "source": [
    "out.cost_per_person"
   ]
  },
  {
   "cell_type": "code",
   "execution_count": 115,
   "id": "0653b76f",
   "metadata": {},
   "outputs": [
    {
     "name": "stdout",
     "output_type": "stream",
     "text": [
      "The minimum payment requirements is 47.5.\n",
      "The minimum payment requirements is 47.5.\n",
      "The minimum payment requirements is 47.5.\n",
      "More seats are not available.\n",
      "More seats are not available.\n",
      "More seats are not available.\n",
      "More seats are not available.\n",
      "More seats are not available.\n",
      "More seats are not available.\n",
      "More seats are not available.\n",
      "More seats are not available.\n",
      "More seats are not available.\n",
      "More seats are not available.\n",
      "More seats are not available.\n",
      "More seats are not available.\n",
      "More seats are not available.\n"
     ]
    }
   ],
   "source": [
    "import random\n",
    "for i in range(0, 30):\n",
    "    inst = sc(\"Person \"+str(i),random.randint(40, 70))\n",
    "    out.enter_sc(inst)"
   ]
  },
  {
   "cell_type": "code",
   "execution_count": 116,
   "id": "afa394a6",
   "metadata": {},
   "outputs": [
    {
     "name": "stdout",
     "output_type": "stream",
     "text": [
      "Person 0\n",
      "Person 1\n",
      "Person 2\n",
      "Person 3\n",
      "Person 5\n",
      "Person 6\n",
      "Person 8\n",
      "Person 9\n",
      "Person 10\n",
      "Person 11\n",
      "Person 12\n",
      "Person 14\n",
      "Person 15\n",
      "Person 16\n"
     ]
    }
   ],
   "source": [
    "out.sc_names()"
   ]
  },
  {
   "cell_type": "code",
   "execution_count": 117,
   "id": "637f25e5",
   "metadata": {},
   "outputs": [
    {
     "name": "stdout",
     "output_type": "stream",
     "text": [
      "Total profit is 285.\n"
     ]
    },
    {
     "data": {
      "text/plain": [
       "285"
      ]
     },
     "execution_count": 117,
     "metadata": {},
     "output_type": "execute_result"
    }
   ],
   "source": [
    "out.breakpoint()"
   ]
  },
  {
   "cell_type": "code",
   "execution_count": null,
   "id": "80382022",
   "metadata": {},
   "outputs": [],
   "source": []
  }
 ],
 "metadata": {
  "kernelspec": {
   "display_name": "Python 3 (ipykernel)",
   "language": "python",
   "name": "python3"
  },
  "language_info": {
   "codemirror_mode": {
    "name": "ipython",
    "version": 3
   },
   "file_extension": ".py",
   "mimetype": "text/x-python",
   "name": "python",
   "nbconvert_exporter": "python",
   "pygments_lexer": "ipython3",
   "version": "3.11.4"
  }
 },
 "nbformat": 4,
 "nbformat_minor": 5
}
